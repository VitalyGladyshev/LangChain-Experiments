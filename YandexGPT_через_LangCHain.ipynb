{
  "nbformat": 4,
  "nbformat_minor": 0,
  "metadata": {
    "colab": {
      "provenance": [],
      "authorship_tag": "ABX9TyNprRoZ3Femgy5g3MPVx8Iu",
      "include_colab_link": true
    },
    "kernelspec": {
      "name": "python3",
      "display_name": "Python 3"
    },
    "language_info": {
      "name": "python"
    }
  },
  "cells": [
    {
      "cell_type": "markdown",
      "metadata": {
        "id": "view-in-github",
        "colab_type": "text"
      },
      "source": [
        "<a href=\"https://colab.research.google.com/github/VitalyGladyshev/LangChain-Experiments/blob/main/YandexGPT_%D1%87%D0%B5%D1%80%D0%B5%D0%B7_LangCHain.ipynb\" target=\"_parent\"><img src=\"https://colab.research.google.com/assets/colab-badge.svg\" alt=\"Open In Colab\"/></a>"
      ]
    },
    {
      "cell_type": "markdown",
      "source": [
        "# Проба YandexGPT через LangCHain"
      ],
      "metadata": {
        "id": "-ttD-9Sy3ehJ"
      }
    },
    {
      "cell_type": "code",
      "execution_count": null,
      "metadata": {
        "id": "-xsu2hfT04Z1"
      },
      "outputs": [],
      "source": [
        "Сimport pickle"
      ]
    },
    {
      "cell_type": "code",
      "source": [
        "with open(\"headers\", \"rb\") as fp:\n",
        "    headers = pickle.load(fp)"
      ],
      "metadata": {
        "id": "uVFCa_gh3wKN"
      },
      "execution_count": null,
      "outputs": []
    },
    {
      "cell_type": "code",
      "source": [
        "with open(\"chapters\", \"rb\") as fp:\n",
        "    chapters = pickle.load(fp)"
      ],
      "metadata": {
        "id": "5I6TROOC316J"
      },
      "execution_count": null,
      "outputs": []
    },
    {
      "cell_type": "code",
      "source": [
        "type(headers)"
      ],
      "metadata": {
        "colab": {
          "base_uri": "https://localhost:8080/"
        },
        "id": "FYDgNKbh4T1T",
        "outputId": "5296b0f4-b7cb-47fa-8f25-aa5c5fb73f06"
      },
      "execution_count": null,
      "outputs": [
        {
          "output_type": "execute_result",
          "data": {
            "text/plain": [
              "list"
            ]
          },
          "metadata": {},
          "execution_count": 4
        }
      ]
    },
    {
      "cell_type": "code",
      "source": [
        "headers[0]"
      ],
      "metadata": {
        "colab": {
          "base_uri": "https://localhost:8080/",
          "height": 35
        },
        "id": "DPnJsuit4OKj",
        "outputId": "cbd96bac-02e3-4b3a-cbc3-52b0fe72108d"
      },
      "execution_count": null,
      "outputs": [
        {
          "output_type": "execute_result",
          "data": {
            "text/plain": [
              "'Назначение программного модуля CAD'"
            ],
            "application/vnd.google.colaboratory.intrinsic+json": {
              "type": "string"
            }
          },
          "metadata": {},
          "execution_count": 5
        }
      ]
    },
    {
      "cell_type": "code",
      "source": [
        "type(chapters)"
      ],
      "metadata": {
        "colab": {
          "base_uri": "https://localhost:8080/"
        },
        "id": "jeiTXtWS4RM8",
        "outputId": "99a55c36-c8f7-45a7-a2ac-4e43ddb73fae"
      },
      "execution_count": null,
      "outputs": [
        {
          "output_type": "execute_result",
          "data": {
            "text/plain": [
              "dict"
            ]
          },
          "metadata": {},
          "execution_count": 6
        }
      ]
    },
    {
      "cell_type": "code",
      "source": [
        "chapters[headers[0]]"
      ],
      "metadata": {
        "colab": {
          "base_uri": "https://localhost:8080/",
          "height": 87
        },
        "id": "ej8d8udo4yk7",
        "outputId": "3ca34e5c-ba45-48d3-962a-cd8e0c60a66f"
      },
      "execution_count": null,
      "outputs": [
        {
          "output_type": "execute_result",
          "data": {
            "text/plain": [
              "'Программный модуль CAD разработан на базе интегрированной инженерной программной платформы и программно-математического ядра трехмерного моделирования «RGK».Функциональное назначение программного модуля CAD:создание и редактирование геометрической модели объектов проектирования, включая 3D- и 2D-представления;задание атрибутивной информации, связанной с точностными, размерными, технологическими параметрами объектов проектирования (PMI);оформление графической документации в соответствии с требованиями стандартов (ЕСКД);визуализация объектов проектирования с различными параметрами отображения.'"
            ],
            "application/vnd.google.colaboratory.intrinsic+json": {
              "type": "string"
            }
          },
          "metadata": {},
          "execution_count": 7
        }
      ]
    },
    {
      "cell_type": "markdown",
      "source": [
        "## Yandex"
      ],
      "metadata": {
        "id": "eemGdrn-6PLN"
      }
    },
    {
      "cell_type": "code",
      "source": [
        "# %pip install yandexcloud"
      ],
      "metadata": {
        "colab": {
          "base_uri": "https://localhost:8080/",
          "height": 564
        },
        "id": "M6Xbn2cW42-r",
        "outputId": "6192c27d-13f8-43bb-ae81-0cf760425f19"
      },
      "execution_count": null,
      "outputs": [
        {
          "output_type": "stream",
          "name": "stdout",
          "text": [
            "Collecting yandexcloud\n",
            "  Downloading yandexcloud-0.325.0-py3-none-any.whl.metadata (10 kB)\n",
            "Collecting cryptography<43,>=41.0.7 (from yandexcloud)\n",
            "  Downloading cryptography-42.0.8-cp39-abi3-manylinux_2_28_x86_64.whl.metadata (5.3 kB)\n",
            "Requirement already satisfied: grpcio<2,>=1.64.0 in /usr/local/lib/python3.10/dist-packages (from yandexcloud) (1.67.1)\n",
            "Requirement already satisfied: protobuf<5,>=4.25.3 in /usr/local/lib/python3.10/dist-packages (from yandexcloud) (4.25.5)\n",
            "Requirement already satisfied: googleapis-common-protos<2,>=1.63.0 in /usr/local/lib/python3.10/dist-packages (from yandexcloud) (1.66.0)\n",
            "Requirement already satisfied: pyjwt<3,>=2.8.0 in /usr/local/lib/python3.10/dist-packages (from yandexcloud) (2.9.0)\n",
            "Requirement already satisfied: requests<3,>=2.32.3 in /usr/local/lib/python3.10/dist-packages (from yandexcloud) (2.32.3)\n",
            "Requirement already satisfied: six<2,>=1.16.0 in /usr/local/lib/python3.10/dist-packages (from yandexcloud) (1.16.0)\n",
            "Requirement already satisfied: cffi>=1.12 in /usr/local/lib/python3.10/dist-packages (from cryptography<43,>=41.0.7->yandexcloud) (1.17.1)\n",
            "Requirement already satisfied: charset-normalizer<4,>=2 in /usr/local/lib/python3.10/dist-packages (from requests<3,>=2.32.3->yandexcloud) (3.4.0)\n",
            "Requirement already satisfied: idna<4,>=2.5 in /usr/local/lib/python3.10/dist-packages (from requests<3,>=2.32.3->yandexcloud) (3.10)\n",
            "Requirement already satisfied: urllib3<3,>=1.21.1 in /usr/local/lib/python3.10/dist-packages (from requests<3,>=2.32.3->yandexcloud) (2.2.3)\n",
            "Requirement already satisfied: certifi>=2017.4.17 in /usr/local/lib/python3.10/dist-packages (from requests<3,>=2.32.3->yandexcloud) (2024.8.30)\n",
            "Requirement already satisfied: pycparser in /usr/local/lib/python3.10/dist-packages (from cffi>=1.12->cryptography<43,>=41.0.7->yandexcloud) (2.22)\n",
            "Downloading yandexcloud-0.325.0-py3-none-any.whl (3.9 MB)\n",
            "\u001b[2K   \u001b[90m━━━━━━━━━━━━━━━━━━━━━━━━━━━━━━━━━━━━━━━━\u001b[0m \u001b[32m3.9/3.9 MB\u001b[0m \u001b[31m47.4 MB/s\u001b[0m eta \u001b[36m0:00:00\u001b[0m\n",
            "\u001b[?25hDownloading cryptography-42.0.8-cp39-abi3-manylinux_2_28_x86_64.whl (3.9 MB)\n",
            "\u001b[2K   \u001b[90m━━━━━━━━━━━━━━━━━━━━━━━━━━━━━━━━━━━━━━━━\u001b[0m \u001b[32m3.9/3.9 MB\u001b[0m \u001b[31m56.3 MB/s\u001b[0m eta \u001b[36m0:00:00\u001b[0m\n",
            "\u001b[?25hInstalling collected packages: cryptography, yandexcloud\n",
            "  Attempting uninstall: cryptography\n",
            "    Found existing installation: cryptography 43.0.3\n",
            "    Uninstalling cryptography-43.0.3:\n",
            "      Successfully uninstalled cryptography-43.0.3\n",
            "Successfully installed cryptography-42.0.8 yandexcloud-0.325.0\n"
          ]
        },
        {
          "output_type": "display_data",
          "data": {
            "application/vnd.colab-display-data+json": {
              "pip_warning": {
                "packages": [
                  "cryptography"
                ]
              },
              "id": "f8e0ce4fb8bb47c6842c3b37360434b2"
            }
          },
          "metadata": {}
        }
      ]
    },
    {
      "cell_type": "code",
      "source": [
        "import os\n",
        "import getpass"
      ],
      "metadata": {
        "id": "tJ7jdcOt6giE"
      },
      "execution_count": null,
      "outputs": []
    },
    {
      "cell_type": "code",
      "source": [
        "def _set_env(var: str):\n",
        "    if not os.environ.get(var):\n",
        "        os.environ[var] = getpass.getpass(f\"{var}: \")"
      ],
      "metadata": {
        "id": "yzpJF5QG94Ys"
      },
      "execution_count": null,
      "outputs": []
    },
    {
      "cell_type": "code",
      "source": [
        "_set_env(\"YC_IAM_TOKEN\")"
      ],
      "metadata": {
        "colab": {
          "base_uri": "https://localhost:8080/"
        },
        "id": "fGSS8Tbt-IV7",
        "outputId": "7d5b01e2-edfd-4f2d-d766-a0a2dc598382"
      },
      "execution_count": null,
      "outputs": [
        {
          "name": "stdout",
          "output_type": "stream",
          "text": [
            "YC_IAM_TOKEN: ··········\n"
          ]
        }
      ]
    },
    {
      "cell_type": "code",
      "source": [
        "_set_env(\"YC_API_KEY\")"
      ],
      "metadata": {
        "colab": {
          "base_uri": "https://localhost:8080/"
        },
        "id": "DlvhwTBBR1Ze",
        "outputId": "f1c626ae-e183-4e25-d8bd-cdba8157a2b9"
      },
      "execution_count": null,
      "outputs": [
        {
          "name": "stdout",
          "output_type": "stream",
          "text": [
            "YC_API_KEY: ··········\n"
          ]
        }
      ]
    },
    {
      "cell_type": "code",
      "source": [
        "_set_env(\"YC_FOLDER_ID\")"
      ],
      "metadata": {
        "colab": {
          "base_uri": "https://localhost:8080/"
        },
        "id": "dszZYYikSwjQ",
        "outputId": "37d5e2fb-10a0-4341-a81c-85fbb6b3fdd9"
      },
      "execution_count": null,
      "outputs": [
        {
          "name": "stdout",
          "output_type": "stream",
          "text": [
            "YC_FOLDER_ID: ··········\n"
          ]
        }
      ]
    },
    {
      "cell_type": "markdown",
      "source": [
        "### LLMs YandexGPT example"
      ],
      "metadata": {
        "id": "Gy2E1DcN-2VB"
      }
    },
    {
      "cell_type": "code",
      "source": [
        "%pip list"
      ],
      "metadata": {
        "colab": {
          "base_uri": "https://localhost:8080/"
        },
        "id": "PJhRuJTl_AUW",
        "outputId": "f6f56051-b670-41c8-d664-aa694bb34d42"
      },
      "execution_count": null,
      "outputs": [
        {
          "output_type": "stream",
          "name": "stdout",
          "text": [
            "Package                            Version\n",
            "---------------------------------- --------------------\n",
            "absl-py                            1.4.0\n",
            "accelerate                         1.1.1\n",
            "aiohappyeyeballs                   2.4.3\n",
            "aiohttp                            3.11.1\n",
            "aiosignal                          1.3.1\n",
            "alabaster                          1.0.0\n",
            "albucore                           0.0.19\n",
            "albumentations                     1.4.20\n",
            "altair                             4.2.2\n",
            "annotated-types                    0.7.0\n",
            "anyio                              3.7.1\n",
            "argon2-cffi                        23.1.0\n",
            "argon2-cffi-bindings               21.2.0\n",
            "array_record                       0.5.1\n",
            "arviz                              0.20.0\n",
            "astropy                            6.1.6\n",
            "astropy-iers-data                  0.2024.11.11.0.32.38\n",
            "astunparse                         1.6.3\n",
            "async-timeout                      4.0.3\n",
            "atpublic                           4.1.0\n",
            "attrs                              24.2.0\n",
            "audioread                          3.0.1\n",
            "autograd                           1.7.0\n",
            "babel                              2.16.0\n",
            "backcall                           0.2.0\n",
            "beautifulsoup4                     4.12.3\n",
            "bigframes                          1.26.0\n",
            "bigquery-magics                    0.4.0\n",
            "bleach                             6.2.0\n",
            "blinker                            1.9.0\n",
            "blis                               0.7.11\n",
            "blosc2                             2.7.1\n",
            "bokeh                              3.6.1\n",
            "Bottleneck                         1.4.2\n",
            "bqplot                             0.12.43\n",
            "branca                             0.8.0\n",
            "CacheControl                       0.14.1\n",
            "cachetools                         5.5.0\n",
            "catalogue                          2.0.10\n",
            "certifi                            2024.8.30\n",
            "cffi                               1.17.1\n",
            "chardet                            5.2.0\n",
            "charset-normalizer                 3.4.0\n",
            "chex                               0.1.87\n",
            "clarabel                           0.9.0\n",
            "click                              8.1.7\n",
            "cloudpathlib                       0.20.0\n",
            "cloudpickle                        3.1.0\n",
            "cmake                              3.30.5\n",
            "cmdstanpy                          1.2.4\n",
            "colorcet                           3.1.0\n",
            "colorlover                         0.3.0\n",
            "colour                             0.1.5\n",
            "community                          1.0.0b1\n",
            "confection                         0.1.5\n",
            "cons                               0.4.6\n",
            "contourpy                          1.3.1\n",
            "cryptography                       42.0.8\n",
            "cuda-python                        12.2.1\n",
            "cudf-cu12                          24.10.1\n",
            "cufflinks                          0.17.3\n",
            "cupy-cuda12x                       12.2.0\n",
            "cvxopt                             1.3.2\n",
            "cvxpy                              1.5.3\n",
            "cycler                             0.12.1\n",
            "cymem                              2.0.8\n",
            "Cython                             3.0.11\n",
            "dask                               2024.10.0\n",
            "datascience                        0.17.6\n",
            "db-dtypes                          1.3.1\n",
            "dbus-python                        1.2.18\n",
            "debugpy                            1.8.0\n",
            "decorator                          4.4.2\n",
            "defusedxml                         0.7.1\n",
            "Deprecated                         1.2.14\n",
            "diffusers                          0.31.0\n",
            "distro                             1.9.0\n",
            "dlib                               19.24.2\n",
            "dm-tree                            0.1.8\n",
            "docker-pycreds                     0.4.0\n",
            "docstring_parser                   0.16\n",
            "docutils                           0.21.2\n",
            "dopamine_rl                        4.0.9\n",
            "duckdb                             1.1.3\n",
            "earthengine-api                    1.2.0\n",
            "easydict                           1.13\n",
            "ecos                               2.0.14\n",
            "editdistance                       0.8.1\n",
            "eerepr                             0.0.4\n",
            "einops                             0.8.0\n",
            "en-core-web-sm                     3.7.1\n",
            "entrypoints                        0.4\n",
            "et_xmlfile                         2.0.0\n",
            "etils                              1.10.0\n",
            "etuples                            0.3.9\n",
            "eval_type_backport                 0.2.0\n",
            "exceptiongroup                     1.2.2\n",
            "fastai                             2.7.18\n",
            "fastcore                           1.7.19\n",
            "fastdownload                       0.0.7\n",
            "fastjsonschema                     2.20.0\n",
            "fastprogress                       1.0.3\n",
            "fastrlock                          0.8.2\n",
            "filelock                           3.16.1\n",
            "firebase-admin                     6.5.0\n",
            "Flask                              3.0.3\n",
            "flatbuffers                        24.3.25\n",
            "flax                               0.8.5\n",
            "folium                             0.18.0\n",
            "fonttools                          4.54.1\n",
            "frozendict                         2.4.6\n",
            "frozenlist                         1.5.0\n",
            "fsspec                             2024.10.0\n",
            "future                             1.0.0\n",
            "gast                               0.6.0\n",
            "gcsfs                              2024.10.0\n",
            "GDAL                               3.6.4\n",
            "gdown                              5.2.0\n",
            "geemap                             0.35.1\n",
            "gensim                             4.3.3\n",
            "geocoder                           1.38.1\n",
            "geographiclib                      2.0\n",
            "geopandas                          1.0.1\n",
            "geopy                              2.4.1\n",
            "gin-config                         0.5.0\n",
            "gitdb                              4.0.11\n",
            "GitPython                          3.1.43\n",
            "glob2                              0.7\n",
            "google                             2.0.3\n",
            "google-ai-generativelanguage       0.6.10\n",
            "google-api-core                    2.19.2\n",
            "google-api-python-client           2.151.0\n",
            "google-auth                        2.27.0\n",
            "google-auth-httplib2               0.2.0\n",
            "google-auth-oauthlib               1.2.1\n",
            "google-cloud-aiplatform            1.71.1\n",
            "google-cloud-bigquery              3.25.0\n",
            "google-cloud-bigquery-connection   1.16.1\n",
            "google-cloud-bigquery-storage      2.27.0\n",
            "google-cloud-bigtable              2.27.0\n",
            "google-cloud-core                  2.4.1\n",
            "google-cloud-datastore             2.20.1\n",
            "google-cloud-firestore             2.19.0\n",
            "google-cloud-functions             1.18.0\n",
            "google-cloud-iam                   2.16.0\n",
            "google-cloud-language              2.15.0\n",
            "google-cloud-pubsub                2.27.1\n",
            "google-cloud-resource-manager      1.13.0\n",
            "google-cloud-storage               2.8.0\n",
            "google-cloud-translate             3.17.0\n",
            "google-colab                       1.0.0\n",
            "google-crc32c                      1.6.0\n",
            "google-generativeai                0.8.3\n",
            "google-pasta                       0.2.0\n",
            "google-resumable-media             2.7.2\n",
            "googleapis-common-protos           1.66.0\n",
            "googledrivedownloader              0.4\n",
            "graphviz                           0.20.3\n",
            "greenlet                           3.1.1\n",
            "grpc-google-iam-v1                 0.13.1\n",
            "grpcio                             1.67.1\n",
            "grpcio-status                      1.62.3\n",
            "gspread                            6.0.2\n",
            "gspread-dataframe                  3.3.1\n",
            "gym                                0.25.2\n",
            "gym-notices                        0.0.8\n",
            "h11                                0.14.0\n",
            "h5netcdf                           1.4.1\n",
            "h5py                               3.12.1\n",
            "holidays                           0.60\n",
            "holoviews                          1.20.0\n",
            "html5lib                           1.1\n",
            "httpcore                           1.0.6\n",
            "httpimport                         1.4.0\n",
            "httplib2                           0.22.0\n",
            "httpx                              0.27.2\n",
            "huggingface-hub                    0.26.2\n",
            "humanize                           4.11.0\n",
            "hyperopt                           0.2.7\n",
            "ibis-framework                     9.2.0\n",
            "idna                               3.10\n",
            "imageio                            2.36.0\n",
            "imageio-ffmpeg                     0.5.1\n",
            "imagesize                          1.4.1\n",
            "imbalanced-learn                   0.12.4\n",
            "imgaug                             0.4.0\n",
            "immutabledict                      4.2.0\n",
            "importlib_metadata                 8.5.0\n",
            "importlib_resources                6.4.5\n",
            "imutils                            0.5.4\n",
            "inflect                            7.4.0\n",
            "iniconfig                          2.0.0\n",
            "intel-cmplr-lib-ur                 2025.0.0\n",
            "intel-openmp                       2025.0.0\n",
            "ipyevents                          2.0.2\n",
            "ipyfilechooser                     0.6.0\n",
            "ipykernel                          5.5.6\n",
            "ipyleaflet                         0.19.2\n",
            "ipyparallel                        8.8.0\n",
            "ipython                            7.34.0\n",
            "ipython-genutils                   0.2.0\n",
            "ipython-sql                        0.5.0\n",
            "ipytree                            0.2.2\n",
            "ipywidgets                         7.7.1\n",
            "itsdangerous                       2.2.0\n",
            "jax                                0.4.33\n",
            "jax-cuda12-pjrt                    0.4.33\n",
            "jax-cuda12-plugin                  0.4.33\n",
            "jaxlib                             0.4.33\n",
            "jeepney                            0.7.1\n",
            "jellyfish                          1.1.0\n",
            "jieba                              0.42.1\n",
            "Jinja2                             3.1.4\n",
            "jiter                              0.7.1\n",
            "joblib                             1.4.2\n",
            "jsonpatch                          1.33\n",
            "jsonpickle                         4.0.0\n",
            "jsonpointer                        3.0.0\n",
            "jsonschema                         4.23.0\n",
            "jsonschema-specifications          2024.10.1\n",
            "jupyter-client                     6.1.12\n",
            "jupyter-console                    6.1.0\n",
            "jupyter_core                       5.7.2\n",
            "jupyter-leaflet                    0.19.2\n",
            "jupyter-server                     1.24.0\n",
            "jupyterlab_pygments                0.3.0\n",
            "jupyterlab_widgets                 3.0.13\n",
            "kaggle                             1.6.17\n",
            "kagglehub                          0.3.4\n",
            "keras                              3.5.0\n",
            "keyring                            23.5.0\n",
            "kiwisolver                         1.4.7\n",
            "langchain                          0.3.7\n",
            "langchain-core                     0.3.18\n",
            "langchain-text-splitters           0.3.2\n",
            "langcodes                          3.4.1\n",
            "langsmith                          0.1.143\n",
            "language_data                      1.2.0\n",
            "launchpadlib                       1.10.16\n",
            "lazr.restfulclient                 0.14.4\n",
            "lazr.uri                           1.0.6\n",
            "lazy_loader                        0.4\n",
            "libclang                           18.1.1\n",
            "libcudf-cu12                       24.10.1\n",
            "librosa                            0.10.2.post1\n",
            "lightgbm                           4.5.0\n",
            "linkify-it-py                      2.0.3\n",
            "llvmlite                           0.43.0\n",
            "locket                             1.0.0\n",
            "logical-unification                0.4.6\n",
            "lxml                               5.3.0\n",
            "marisa-trie                        1.2.1\n",
            "Markdown                           3.7\n",
            "markdown-it-py                     3.0.0\n",
            "MarkupSafe                         3.0.2\n",
            "matplotlib                         3.8.0\n",
            "matplotlib-inline                  0.1.7\n",
            "matplotlib-venn                    1.1.1\n",
            "mdit-py-plugins                    0.4.2\n",
            "mdurl                              0.1.2\n",
            "miniKanren                         1.0.3\n",
            "missingno                          0.5.2\n",
            "mistune                            3.0.2\n",
            "mizani                             0.13.0\n",
            "mkl                                2025.0.0\n",
            "ml-dtypes                          0.4.1\n",
            "mlxtend                            0.23.2\n",
            "more-itertools                     10.5.0\n",
            "moviepy                            1.0.3\n",
            "mpmath                             1.3.0\n",
            "msgpack                            1.1.0\n",
            "multidict                          6.1.0\n",
            "multipledispatch                   1.0.0\n",
            "multitasking                       0.0.11\n",
            "murmurhash                         1.0.10\n",
            "music21                            9.3.0\n",
            "namex                              0.0.8\n",
            "natsort                            8.4.0\n",
            "nbclassic                          1.1.0\n",
            "nbclient                           0.10.0\n",
            "nbconvert                          7.16.4\n",
            "nbformat                           5.10.4\n",
            "ndindex                            1.9.2\n",
            "nest-asyncio                       1.6.0\n",
            "networkx                           3.4.2\n",
            "nibabel                            5.3.2\n",
            "nltk                               3.9.1\n",
            "notebook                           6.5.5\n",
            "notebook_shim                      0.2.4\n",
            "numba                              0.60.0\n",
            "numexpr                            2.10.1\n",
            "numpy                              1.26.4\n",
            "nvidia-cublas-cu12                 12.6.3.3\n",
            "nvidia-cuda-cupti-cu12             12.6.80\n",
            "nvidia-cuda-nvcc-cu12              12.6.77\n",
            "nvidia-cuda-runtime-cu12           12.6.77\n",
            "nvidia-cudnn-cu12                  9.5.1.17\n",
            "nvidia-cufft-cu12                  11.3.0.4\n",
            "nvidia-curand-cu12                 10.3.7.77\n",
            "nvidia-cusolver-cu12               11.7.1.2\n",
            "nvidia-cusparse-cu12               12.5.4.2\n",
            "nvidia-nccl-cu12                   2.23.4\n",
            "nvidia-nvjitlink-cu12              12.6.77\n",
            "nvtx                               0.2.10\n",
            "nx-cugraph-cu12                    24.10.0\n",
            "oauth2client                       4.1.3\n",
            "oauthlib                           3.2.2\n",
            "openai                             1.54.4\n",
            "opencv-contrib-python              4.10.0.84\n",
            "opencv-python                      4.10.0.84\n",
            "opencv-python-headless             4.10.0.84\n",
            "openpyxl                           3.1.5\n",
            "opentelemetry-api                  1.28.1\n",
            "opentelemetry-sdk                  1.28.1\n",
            "opentelemetry-semantic-conventions 0.49b1\n",
            "opt_einsum                         3.4.0\n",
            "optax                              0.2.4\n",
            "optree                             0.13.1\n",
            "orbax-checkpoint                   0.6.4\n",
            "orjson                             3.10.11\n",
            "osqp                               0.6.7.post3\n",
            "packaging                          24.2\n",
            "pandas                             2.2.2\n",
            "pandas-datareader                  0.10.0\n",
            "pandas-gbq                         0.24.0\n",
            "pandas-stubs                       2.2.2.240909\n",
            "pandocfilters                      1.5.1\n",
            "panel                              1.5.4\n",
            "param                              2.1.1\n",
            "parso                              0.8.4\n",
            "parsy                              2.1\n",
            "partd                              1.4.2\n",
            "pathlib                            1.0.1\n",
            "patsy                              1.0.1\n",
            "peewee                             3.17.8\n",
            "peft                               0.13.2\n",
            "pexpect                            4.9.0\n",
            "pickleshare                        0.7.5\n",
            "pillow                             11.0.0\n",
            "pip                                24.1.2\n",
            "platformdirs                       4.3.6\n",
            "plotly                             5.24.1\n",
            "plotnine                           0.14.1\n",
            "pluggy                             1.5.0\n",
            "polars                             1.9.0\n",
            "pooch                              1.8.2\n",
            "portpicker                         1.5.2\n",
            "preshed                            3.0.9\n",
            "prettytable                        3.12.0\n",
            "proglog                            0.1.10\n",
            "progressbar2                       4.5.0\n",
            "prometheus_client                  0.21.0\n",
            "promise                            2.3\n",
            "prompt_toolkit                     3.0.48\n",
            "propcache                          0.2.0\n",
            "prophet                            1.1.6\n",
            "proto-plus                         1.25.0\n",
            "protobuf                           4.25.5\n",
            "psutil                             5.9.5\n",
            "psycopg2                           2.9.10\n",
            "ptyprocess                         0.7.0\n",
            "py-cpuinfo                         9.0.0\n",
            "py4j                               0.10.9.7\n",
            "pyarrow                            17.0.0\n",
            "pyarrow-hotfix                     0.6\n",
            "pyasn1                             0.6.1\n",
            "pyasn1_modules                     0.4.1\n",
            "pycocotools                        2.0.8\n",
            "pycparser                          2.22\n",
            "pydantic                           2.9.2\n",
            "pydantic_core                      2.23.4\n",
            "pydata-google-auth                 1.8.2\n",
            "pydot                              3.0.2\n",
            "pydotplus                          2.0.2\n",
            "PyDrive                            1.3.1\n",
            "PyDrive2                           1.21.1\n",
            "pyerfa                             2.0.1.5\n",
            "pygame                             2.6.1\n",
            "pygit2                             1.16.0\n",
            "Pygments                           2.18.0\n",
            "PyGObject                          3.42.1\n",
            "PyJWT                              2.9.0\n",
            "pylibcudf-cu12                     24.10.1\n",
            "pylibcugraph-cu12                  24.10.0\n",
            "pylibraft-cu12                     24.10.0\n",
            "pymc                               5.18.0\n",
            "pymystem3                          0.2.0\n",
            "pynvjitlink-cu12                   0.4.0\n",
            "pyogrio                            0.10.0\n",
            "PyOpenGL                           3.1.7\n",
            "pyOpenSSL                          24.2.1\n",
            "pyparsing                          3.2.0\n",
            "pyperclip                          1.9.0\n",
            "pyproj                             3.7.0\n",
            "pyshp                              2.3.1\n",
            "PySocks                            1.7.1\n",
            "pyspark                            3.5.3\n",
            "pytensor                           2.25.5\n",
            "pytest                             8.3.3\n",
            "python-apt                         0.0.0\n",
            "python-box                         7.2.0\n",
            "python-dateutil                    2.8.2\n",
            "python-louvain                     0.16\n",
            "python-slugify                     8.0.4\n",
            "python-utils                       3.9.0\n",
            "pytz                               2024.2\n",
            "pyviz_comms                        3.0.3\n",
            "PyYAML                             6.0.2\n",
            "pyzmq                              24.0.1\n",
            "qdldl                              0.1.7.post4\n",
            "ratelim                            0.1.6\n",
            "referencing                        0.35.1\n",
            "regex                              2024.9.11\n",
            "requests                           2.32.3\n",
            "requests-oauthlib                  1.3.1\n",
            "requests-toolbelt                  1.0.0\n",
            "requirements-parser                0.9.0\n",
            "rich                               13.9.4\n",
            "rmm-cu12                           24.10.0\n",
            "rpds-py                            0.21.0\n",
            "rpy2                               3.4.2\n",
            "rsa                                4.9\n",
            "safetensors                        0.4.5\n",
            "scikit-image                       0.24.0\n",
            "scikit-learn                       1.5.2\n",
            "scipy                              1.13.1\n",
            "scooby                             0.10.0\n",
            "scs                                3.2.7\n",
            "seaborn                            0.13.2\n",
            "SecretStorage                      3.3.1\n",
            "Send2Trash                         1.8.3\n",
            "sentence-transformers              3.2.1\n",
            "sentencepiece                      0.2.0\n",
            "sentry-sdk                         2.18.0\n",
            "setproctitle                       1.3.3\n",
            "setuptools                         75.1.0\n",
            "shap                               0.46.0\n",
            "shapely                            2.0.6\n",
            "shellingham                        1.5.4\n",
            "simple-parsing                     0.1.6\n",
            "six                                1.16.0\n",
            "sklearn-pandas                     2.2.0\n",
            "slicer                             0.0.8\n",
            "smart-open                         7.0.5\n",
            "smmap                              5.0.1\n",
            "sniffio                            1.3.1\n",
            "snowballstemmer                    2.2.0\n",
            "soundfile                          0.12.1\n",
            "soupsieve                          2.6\n",
            "soxr                               0.5.0.post1\n",
            "spacy                              3.7.5\n",
            "spacy-legacy                       3.0.12\n",
            "spacy-loggers                      1.0.5\n",
            "Sphinx                             8.1.3\n",
            "sphinxcontrib-applehelp            2.0.0\n",
            "sphinxcontrib-devhelp              2.0.0\n",
            "sphinxcontrib-htmlhelp             2.1.0\n",
            "sphinxcontrib-jsmath               1.0.1\n",
            "sphinxcontrib-qthelp               2.0.0\n",
            "sphinxcontrib-serializinghtml      2.0.0\n",
            "SQLAlchemy                         2.0.36\n",
            "sqlglot                            25.1.0\n",
            "sqlparse                           0.5.2\n",
            "srsly                              2.4.8\n",
            "stanio                             0.5.1\n",
            "statsmodels                        0.14.4\n",
            "StrEnum                            0.4.15\n",
            "stringzilla                        3.10.10\n",
            "sympy                              1.13.1\n",
            "tables                             3.10.1\n",
            "tabulate                           0.9.0\n",
            "tbb                                2022.0.0\n",
            "tcmlib                             1.2.0\n",
            "tenacity                           9.0.0\n",
            "tensorboard                        2.17.1\n",
            "tensorboard-data-server            0.7.2\n",
            "tensorflow                         2.17.1\n",
            "tensorflow-datasets                4.9.7\n",
            "tensorflow-hub                     0.16.1\n",
            "tensorflow-io-gcs-filesystem       0.37.1\n",
            "tensorflow-metadata                1.13.1\n",
            "tensorflow-probability             0.24.0\n",
            "tensorstore                        0.1.68\n",
            "termcolor                          2.5.0\n",
            "terminado                          0.18.1\n",
            "text-unidecode                     1.3\n",
            "textblob                           0.17.1\n",
            "tf_keras                           2.17.0\n",
            "tf-slim                            1.1.0\n",
            "thinc                              8.2.5\n",
            "threadpoolctl                      3.5.0\n",
            "tifffile                           2024.9.20\n",
            "timm                               1.0.11\n",
            "tinycss2                           1.4.0\n",
            "tokenizers                         0.20.3\n",
            "toml                               0.10.2\n",
            "tomli                              2.1.0\n",
            "toolz                              0.12.1\n",
            "torch                              2.5.1+cu121\n",
            "torchaudio                         2.5.1+cu121\n",
            "torchsummary                       1.5.1\n",
            "torchvision                        0.20.1+cu121\n",
            "tornado                            6.3.3\n",
            "tqdm                               4.66.6\n",
            "traitlets                          5.7.1\n",
            "traittypes                         0.2.1\n",
            "transformers                       4.46.2\n",
            "tweepy                             4.14.0\n",
            "typeguard                          4.4.1\n",
            "typer                              0.13.0\n",
            "types-pytz                         2024.2.0.20241003\n",
            "types-setuptools                   75.4.0.20241115\n",
            "typing_extensions                  4.12.2\n",
            "tzdata                             2024.2\n",
            "tzlocal                            5.2\n",
            "uc-micro-py                        1.0.3\n",
            "umf                                0.9.0\n",
            "uritemplate                        4.1.1\n",
            "urllib3                            2.2.3\n",
            "vega-datasets                      0.9.0\n",
            "wadllib                            1.3.6\n",
            "wandb                              0.18.7\n",
            "wasabi                             1.1.3\n",
            "wcwidth                            0.2.13\n",
            "weasel                             0.4.1\n",
            "webcolors                          24.11.1\n",
            "webencodings                       0.5.1\n",
            "websocket-client                   1.8.0\n",
            "Werkzeug                           3.1.3\n",
            "wheel                              0.45.0\n",
            "widgetsnbextension                 3.6.10\n",
            "wordcloud                          1.9.4\n",
            "wrapt                              1.16.0\n",
            "xarray                             2024.10.0\n",
            "xarray-einstats                    0.8.0\n",
            "xgboost                            2.1.2\n",
            "xlrd                               2.0.1\n",
            "xyzservices                        2024.9.0\n",
            "yandexcloud                        0.325.0\n",
            "yarl                               1.17.1\n",
            "yellowbrick                        1.5\n",
            "yfinance                           0.2.49\n",
            "zipp                               3.21.0\n"
          ]
        }
      ]
    },
    {
      "cell_type": "code",
      "source": [
        "%pip install --upgrade langchain"
      ],
      "metadata": {
        "colab": {
          "base_uri": "https://localhost:8080/"
        },
        "id": "cahMZn-D_3P9",
        "outputId": "d38929a7-8eba-4822-861d-07980c6da61b"
      },
      "execution_count": null,
      "outputs": [
        {
          "output_type": "stream",
          "name": "stdout",
          "text": [
            "Requirement already satisfied: langchain in /usr/local/lib/python3.10/dist-packages (0.3.7)\n",
            "Requirement already satisfied: PyYAML>=5.3 in /usr/local/lib/python3.10/dist-packages (from langchain) (6.0.2)\n",
            "Requirement already satisfied: SQLAlchemy<3,>=1.4 in /usr/local/lib/python3.10/dist-packages (from langchain) (2.0.36)\n",
            "Requirement already satisfied: aiohttp<4.0.0,>=3.8.3 in /usr/local/lib/python3.10/dist-packages (from langchain) (3.11.1)\n",
            "Requirement already satisfied: async-timeout<5.0.0,>=4.0.0 in /usr/local/lib/python3.10/dist-packages (from langchain) (4.0.3)\n",
            "Requirement already satisfied: langchain-core<0.4.0,>=0.3.15 in /usr/local/lib/python3.10/dist-packages (from langchain) (0.3.18)\n",
            "Requirement already satisfied: langchain-text-splitters<0.4.0,>=0.3.0 in /usr/local/lib/python3.10/dist-packages (from langchain) (0.3.2)\n",
            "Requirement already satisfied: langsmith<0.2.0,>=0.1.17 in /usr/local/lib/python3.10/dist-packages (from langchain) (0.1.143)\n",
            "Requirement already satisfied: numpy<2,>=1 in /usr/local/lib/python3.10/dist-packages (from langchain) (1.26.4)\n",
            "Requirement already satisfied: pydantic<3.0.0,>=2.7.4 in /usr/local/lib/python3.10/dist-packages (from langchain) (2.9.2)\n",
            "Requirement already satisfied: requests<3,>=2 in /usr/local/lib/python3.10/dist-packages (from langchain) (2.32.3)\n",
            "Requirement already satisfied: tenacity!=8.4.0,<10,>=8.1.0 in /usr/local/lib/python3.10/dist-packages (from langchain) (9.0.0)\n",
            "Requirement already satisfied: aiohappyeyeballs>=2.3.0 in /usr/local/lib/python3.10/dist-packages (from aiohttp<4.0.0,>=3.8.3->langchain) (2.4.3)\n",
            "Requirement already satisfied: aiosignal>=1.1.2 in /usr/local/lib/python3.10/dist-packages (from aiohttp<4.0.0,>=3.8.3->langchain) (1.3.1)\n",
            "Requirement already satisfied: attrs>=17.3.0 in /usr/local/lib/python3.10/dist-packages (from aiohttp<4.0.0,>=3.8.3->langchain) (24.2.0)\n",
            "Requirement already satisfied: frozenlist>=1.1.1 in /usr/local/lib/python3.10/dist-packages (from aiohttp<4.0.0,>=3.8.3->langchain) (1.5.0)\n",
            "Requirement already satisfied: multidict<7.0,>=4.5 in /usr/local/lib/python3.10/dist-packages (from aiohttp<4.0.0,>=3.8.3->langchain) (6.1.0)\n",
            "Requirement already satisfied: propcache>=0.2.0 in /usr/local/lib/python3.10/dist-packages (from aiohttp<4.0.0,>=3.8.3->langchain) (0.2.0)\n",
            "Requirement already satisfied: yarl<2.0,>=1.17.0 in /usr/local/lib/python3.10/dist-packages (from aiohttp<4.0.0,>=3.8.3->langchain) (1.17.1)\n",
            "Requirement already satisfied: jsonpatch<2.0,>=1.33 in /usr/local/lib/python3.10/dist-packages (from langchain-core<0.4.0,>=0.3.15->langchain) (1.33)\n",
            "Requirement already satisfied: packaging<25,>=23.2 in /usr/local/lib/python3.10/dist-packages (from langchain-core<0.4.0,>=0.3.15->langchain) (24.2)\n",
            "Requirement already satisfied: typing-extensions>=4.7 in /usr/local/lib/python3.10/dist-packages (from langchain-core<0.4.0,>=0.3.15->langchain) (4.12.2)\n",
            "Requirement already satisfied: httpx<1,>=0.23.0 in /usr/local/lib/python3.10/dist-packages (from langsmith<0.2.0,>=0.1.17->langchain) (0.27.2)\n",
            "Requirement already satisfied: orjson<4.0.0,>=3.9.14 in /usr/local/lib/python3.10/dist-packages (from langsmith<0.2.0,>=0.1.17->langchain) (3.10.11)\n",
            "Requirement already satisfied: requests-toolbelt<2.0.0,>=1.0.0 in /usr/local/lib/python3.10/dist-packages (from langsmith<0.2.0,>=0.1.17->langchain) (1.0.0)\n",
            "Requirement already satisfied: annotated-types>=0.6.0 in /usr/local/lib/python3.10/dist-packages (from pydantic<3.0.0,>=2.7.4->langchain) (0.7.0)\n",
            "Requirement already satisfied: pydantic-core==2.23.4 in /usr/local/lib/python3.10/dist-packages (from pydantic<3.0.0,>=2.7.4->langchain) (2.23.4)\n",
            "Requirement already satisfied: charset-normalizer<4,>=2 in /usr/local/lib/python3.10/dist-packages (from requests<3,>=2->langchain) (3.4.0)\n",
            "Requirement already satisfied: idna<4,>=2.5 in /usr/local/lib/python3.10/dist-packages (from requests<3,>=2->langchain) (3.10)\n",
            "Requirement already satisfied: urllib3<3,>=1.21.1 in /usr/local/lib/python3.10/dist-packages (from requests<3,>=2->langchain) (2.2.3)\n",
            "Requirement already satisfied: certifi>=2017.4.17 in /usr/local/lib/python3.10/dist-packages (from requests<3,>=2->langchain) (2024.8.30)\n",
            "Requirement already satisfied: greenlet!=0.4.17 in /usr/local/lib/python3.10/dist-packages (from SQLAlchemy<3,>=1.4->langchain) (3.1.1)\n",
            "Requirement already satisfied: anyio in /usr/local/lib/python3.10/dist-packages (from httpx<1,>=0.23.0->langsmith<0.2.0,>=0.1.17->langchain) (3.7.1)\n",
            "Requirement already satisfied: httpcore==1.* in /usr/local/lib/python3.10/dist-packages (from httpx<1,>=0.23.0->langsmith<0.2.0,>=0.1.17->langchain) (1.0.6)\n",
            "Requirement already satisfied: sniffio in /usr/local/lib/python3.10/dist-packages (from httpx<1,>=0.23.0->langsmith<0.2.0,>=0.1.17->langchain) (1.3.1)\n",
            "Requirement already satisfied: h11<0.15,>=0.13 in /usr/local/lib/python3.10/dist-packages (from httpcore==1.*->httpx<1,>=0.23.0->langsmith<0.2.0,>=0.1.17->langchain) (0.14.0)\n",
            "Requirement already satisfied: jsonpointer>=1.9 in /usr/local/lib/python3.10/dist-packages (from jsonpatch<2.0,>=1.33->langchain-core<0.4.0,>=0.3.15->langchain) (3.0.0)\n",
            "Requirement already satisfied: exceptiongroup in /usr/local/lib/python3.10/dist-packages (from anyio->httpx<1,>=0.23.0->langsmith<0.2.0,>=0.1.17->langchain) (1.2.2)\n"
          ]
        }
      ]
    },
    {
      "cell_type": "code",
      "source": [
        "%pip install langchain-community"
      ],
      "metadata": {
        "colab": {
          "base_uri": "https://localhost:8080/"
        },
        "id": "6G5T1RGbAGfs",
        "outputId": "9ad18bdf-184a-4d75-91fd-38def9c09324"
      },
      "execution_count": null,
      "outputs": [
        {
          "output_type": "stream",
          "name": "stdout",
          "text": [
            "Collecting langchain-community\n",
            "  Downloading langchain_community-0.3.7-py3-none-any.whl.metadata (2.9 kB)\n",
            "Requirement already satisfied: PyYAML>=5.3 in /usr/local/lib/python3.10/dist-packages (from langchain-community) (6.0.2)\n",
            "Collecting SQLAlchemy<2.0.36,>=1.4 (from langchain-community)\n",
            "  Downloading SQLAlchemy-2.0.35-cp310-cp310-manylinux_2_17_x86_64.manylinux2014_x86_64.whl.metadata (9.6 kB)\n",
            "Requirement already satisfied: aiohttp<4.0.0,>=3.8.3 in /usr/local/lib/python3.10/dist-packages (from langchain-community) (3.11.1)\n",
            "Collecting dataclasses-json<0.7,>=0.5.7 (from langchain-community)\n",
            "  Downloading dataclasses_json-0.6.7-py3-none-any.whl.metadata (25 kB)\n",
            "Collecting httpx-sse<0.5.0,>=0.4.0 (from langchain-community)\n",
            "  Downloading httpx_sse-0.4.0-py3-none-any.whl.metadata (9.0 kB)\n",
            "Requirement already satisfied: langchain<0.4.0,>=0.3.7 in /usr/local/lib/python3.10/dist-packages (from langchain-community) (0.3.7)\n",
            "Requirement already satisfied: langchain-core<0.4.0,>=0.3.17 in /usr/local/lib/python3.10/dist-packages (from langchain-community) (0.3.18)\n",
            "Requirement already satisfied: langsmith<0.2.0,>=0.1.125 in /usr/local/lib/python3.10/dist-packages (from langchain-community) (0.1.143)\n",
            "Requirement already satisfied: numpy<2,>=1 in /usr/local/lib/python3.10/dist-packages (from langchain-community) (1.26.4)\n",
            "Collecting pydantic-settings<3.0.0,>=2.4.0 (from langchain-community)\n",
            "  Downloading pydantic_settings-2.6.1-py3-none-any.whl.metadata (3.5 kB)\n",
            "Requirement already satisfied: requests<3,>=2 in /usr/local/lib/python3.10/dist-packages (from langchain-community) (2.32.3)\n",
            "Requirement already satisfied: tenacity!=8.4.0,<10,>=8.1.0 in /usr/local/lib/python3.10/dist-packages (from langchain-community) (9.0.0)\n",
            "Requirement already satisfied: aiohappyeyeballs>=2.3.0 in /usr/local/lib/python3.10/dist-packages (from aiohttp<4.0.0,>=3.8.3->langchain-community) (2.4.3)\n",
            "Requirement already satisfied: aiosignal>=1.1.2 in /usr/local/lib/python3.10/dist-packages (from aiohttp<4.0.0,>=3.8.3->langchain-community) (1.3.1)\n",
            "Requirement already satisfied: attrs>=17.3.0 in /usr/local/lib/python3.10/dist-packages (from aiohttp<4.0.0,>=3.8.3->langchain-community) (24.2.0)\n",
            "Requirement already satisfied: frozenlist>=1.1.1 in /usr/local/lib/python3.10/dist-packages (from aiohttp<4.0.0,>=3.8.3->langchain-community) (1.5.0)\n",
            "Requirement already satisfied: multidict<7.0,>=4.5 in /usr/local/lib/python3.10/dist-packages (from aiohttp<4.0.0,>=3.8.3->langchain-community) (6.1.0)\n",
            "Requirement already satisfied: propcache>=0.2.0 in /usr/local/lib/python3.10/dist-packages (from aiohttp<4.0.0,>=3.8.3->langchain-community) (0.2.0)\n",
            "Requirement already satisfied: yarl<2.0,>=1.17.0 in /usr/local/lib/python3.10/dist-packages (from aiohttp<4.0.0,>=3.8.3->langchain-community) (1.17.1)\n",
            "Requirement already satisfied: async-timeout<6.0,>=4.0 in /usr/local/lib/python3.10/dist-packages (from aiohttp<4.0.0,>=3.8.3->langchain-community) (4.0.3)\n",
            "Collecting marshmallow<4.0.0,>=3.18.0 (from dataclasses-json<0.7,>=0.5.7->langchain-community)\n",
            "  Downloading marshmallow-3.23.1-py3-none-any.whl.metadata (7.5 kB)\n",
            "Collecting typing-inspect<1,>=0.4.0 (from dataclasses-json<0.7,>=0.5.7->langchain-community)\n",
            "  Downloading typing_inspect-0.9.0-py3-none-any.whl.metadata (1.5 kB)\n",
            "Requirement already satisfied: langchain-text-splitters<0.4.0,>=0.3.0 in /usr/local/lib/python3.10/dist-packages (from langchain<0.4.0,>=0.3.7->langchain-community) (0.3.2)\n",
            "Requirement already satisfied: pydantic<3.0.0,>=2.7.4 in /usr/local/lib/python3.10/dist-packages (from langchain<0.4.0,>=0.3.7->langchain-community) (2.9.2)\n",
            "Requirement already satisfied: jsonpatch<2.0,>=1.33 in /usr/local/lib/python3.10/dist-packages (from langchain-core<0.4.0,>=0.3.17->langchain-community) (1.33)\n",
            "Requirement already satisfied: packaging<25,>=23.2 in /usr/local/lib/python3.10/dist-packages (from langchain-core<0.4.0,>=0.3.17->langchain-community) (24.2)\n",
            "Requirement already satisfied: typing-extensions>=4.7 in /usr/local/lib/python3.10/dist-packages (from langchain-core<0.4.0,>=0.3.17->langchain-community) (4.12.2)\n",
            "Requirement already satisfied: httpx<1,>=0.23.0 in /usr/local/lib/python3.10/dist-packages (from langsmith<0.2.0,>=0.1.125->langchain-community) (0.27.2)\n",
            "Requirement already satisfied: orjson<4.0.0,>=3.9.14 in /usr/local/lib/python3.10/dist-packages (from langsmith<0.2.0,>=0.1.125->langchain-community) (3.10.11)\n",
            "Requirement already satisfied: requests-toolbelt<2.0.0,>=1.0.0 in /usr/local/lib/python3.10/dist-packages (from langsmith<0.2.0,>=0.1.125->langchain-community) (1.0.0)\n",
            "Collecting python-dotenv>=0.21.0 (from pydantic-settings<3.0.0,>=2.4.0->langchain-community)\n",
            "  Downloading python_dotenv-1.0.1-py3-none-any.whl.metadata (23 kB)\n",
            "Requirement already satisfied: charset-normalizer<4,>=2 in /usr/local/lib/python3.10/dist-packages (from requests<3,>=2->langchain-community) (3.4.0)\n",
            "Requirement already satisfied: idna<4,>=2.5 in /usr/local/lib/python3.10/dist-packages (from requests<3,>=2->langchain-community) (3.10)\n",
            "Requirement already satisfied: urllib3<3,>=1.21.1 in /usr/local/lib/python3.10/dist-packages (from requests<3,>=2->langchain-community) (2.2.3)\n",
            "Requirement already satisfied: certifi>=2017.4.17 in /usr/local/lib/python3.10/dist-packages (from requests<3,>=2->langchain-community) (2024.8.30)\n",
            "Requirement already satisfied: greenlet!=0.4.17 in /usr/local/lib/python3.10/dist-packages (from SQLAlchemy<2.0.36,>=1.4->langchain-community) (3.1.1)\n",
            "Requirement already satisfied: anyio in /usr/local/lib/python3.10/dist-packages (from httpx<1,>=0.23.0->langsmith<0.2.0,>=0.1.125->langchain-community) (3.7.1)\n",
            "Requirement already satisfied: httpcore==1.* in /usr/local/lib/python3.10/dist-packages (from httpx<1,>=0.23.0->langsmith<0.2.0,>=0.1.125->langchain-community) (1.0.6)\n",
            "Requirement already satisfied: sniffio in /usr/local/lib/python3.10/dist-packages (from httpx<1,>=0.23.0->langsmith<0.2.0,>=0.1.125->langchain-community) (1.3.1)\n",
            "Requirement already satisfied: h11<0.15,>=0.13 in /usr/local/lib/python3.10/dist-packages (from httpcore==1.*->httpx<1,>=0.23.0->langsmith<0.2.0,>=0.1.125->langchain-community) (0.14.0)\n",
            "Requirement already satisfied: jsonpointer>=1.9 in /usr/local/lib/python3.10/dist-packages (from jsonpatch<2.0,>=1.33->langchain-core<0.4.0,>=0.3.17->langchain-community) (3.0.0)\n",
            "Requirement already satisfied: annotated-types>=0.6.0 in /usr/local/lib/python3.10/dist-packages (from pydantic<3.0.0,>=2.7.4->langchain<0.4.0,>=0.3.7->langchain-community) (0.7.0)\n",
            "Requirement already satisfied: pydantic-core==2.23.4 in /usr/local/lib/python3.10/dist-packages (from pydantic<3.0.0,>=2.7.4->langchain<0.4.0,>=0.3.7->langchain-community) (2.23.4)\n",
            "Collecting mypy-extensions>=0.3.0 (from typing-inspect<1,>=0.4.0->dataclasses-json<0.7,>=0.5.7->langchain-community)\n",
            "  Downloading mypy_extensions-1.0.0-py3-none-any.whl.metadata (1.1 kB)\n",
            "Requirement already satisfied: exceptiongroup in /usr/local/lib/python3.10/dist-packages (from anyio->httpx<1,>=0.23.0->langsmith<0.2.0,>=0.1.125->langchain-community) (1.2.2)\n",
            "Downloading langchain_community-0.3.7-py3-none-any.whl (2.4 MB)\n",
            "\u001b[2K   \u001b[90m━━━━━━━━━━━━━━━━━━━━━━━━━━━━━━━━━━━━━━━━\u001b[0m \u001b[32m2.4/2.4 MB\u001b[0m \u001b[31m67.6 MB/s\u001b[0m eta \u001b[36m0:00:00\u001b[0m\n",
            "\u001b[?25hDownloading dataclasses_json-0.6.7-py3-none-any.whl (28 kB)\n",
            "Downloading httpx_sse-0.4.0-py3-none-any.whl (7.8 kB)\n",
            "Downloading pydantic_settings-2.6.1-py3-none-any.whl (28 kB)\n",
            "Downloading SQLAlchemy-2.0.35-cp310-cp310-manylinux_2_17_x86_64.manylinux2014_x86_64.whl (3.1 MB)\n",
            "\u001b[2K   \u001b[90m━━━━━━━━━━━━━━━━━━━━━━━━━━━━━━━━━━━━━━━━\u001b[0m \u001b[32m3.1/3.1 MB\u001b[0m \u001b[31m40.1 MB/s\u001b[0m eta \u001b[36m0:00:00\u001b[0m\n",
            "\u001b[?25hDownloading marshmallow-3.23.1-py3-none-any.whl (49 kB)\n",
            "\u001b[2K   \u001b[90m━━━━━━━━━━━━━━━━━━━━━━━━━━━━━━━━━━━━━━━━\u001b[0m \u001b[32m49.5/49.5 kB\u001b[0m \u001b[31m4.1 MB/s\u001b[0m eta \u001b[36m0:00:00\u001b[0m\n",
            "\u001b[?25hDownloading python_dotenv-1.0.1-py3-none-any.whl (19 kB)\n",
            "Downloading typing_inspect-0.9.0-py3-none-any.whl (8.8 kB)\n",
            "Downloading mypy_extensions-1.0.0-py3-none-any.whl (4.7 kB)\n",
            "Installing collected packages: SQLAlchemy, python-dotenv, mypy-extensions, marshmallow, httpx-sse, typing-inspect, pydantic-settings, dataclasses-json, langchain-community\n",
            "  Attempting uninstall: SQLAlchemy\n",
            "    Found existing installation: SQLAlchemy 2.0.36\n",
            "    Uninstalling SQLAlchemy-2.0.36:\n",
            "      Successfully uninstalled SQLAlchemy-2.0.36\n",
            "Successfully installed SQLAlchemy-2.0.35 dataclasses-json-0.6.7 httpx-sse-0.4.0 langchain-community-0.3.7 marshmallow-3.23.1 mypy-extensions-1.0.0 pydantic-settings-2.6.1 python-dotenv-1.0.1 typing-inspect-0.9.0\n"
          ]
        }
      ]
    },
    {
      "cell_type": "code",
      "source": [
        "from langchain.chains import LLMChain\n",
        "from langchain_community.llms import YandexGPT\n",
        "from langchain_core.prompts import PromptTemplate"
      ],
      "metadata": {
        "colab": {
          "base_uri": "https://localhost:8080/"
        },
        "id": "IRzjF2Ps-86z",
        "outputId": "1144cf72-cdab-4eaa-ac68-8991f6a3b30c"
      },
      "execution_count": null,
      "outputs": [
        {
          "output_type": "stream",
          "name": "stderr",
          "text": [
            "/usr/local/lib/python3.10/dist-packages/pydantic/_internal/_fields.py:132: UserWarning: Field \"model_uri\" in _BaseYandexGPT has conflict with protected namespace \"model_\".\n",
            "\n",
            "You may be able to resolve this warning by setting `model_config['protected_namespaces'] = ()`.\n",
            "  warnings.warn(\n",
            "/usr/local/lib/python3.10/dist-packages/pydantic/_internal/_fields.py:132: UserWarning: Field \"model_name\" in _BaseYandexGPT has conflict with protected namespace \"model_\".\n",
            "\n",
            "You may be able to resolve this warning by setting `model_config['protected_namespaces'] = ()`.\n",
            "  warnings.warn(\n",
            "/usr/local/lib/python3.10/dist-packages/pydantic/_internal/_fields.py:132: UserWarning: Field \"model_version\" in _BaseYandexGPT has conflict with protected namespace \"model_\".\n",
            "\n",
            "You may be able to resolve this warning by setting `model_config['protected_namespaces'] = ()`.\n",
            "  warnings.warn(\n"
          ]
        }
      ]
    },
    {
      "cell_type": "code",
      "source": [
        "template = \"What is the capital of {country}?\"\n",
        "prompt = PromptTemplate.from_template(template)"
      ],
      "metadata": {
        "id": "rzWT8DsKDjZe"
      },
      "execution_count": null,
      "outputs": []
    },
    {
      "cell_type": "code",
      "source": [
        "yandex_gpt = YandexGPT(folder_id=\"b1gt3tgpol6rntep2m65\")\n",
        "# yandex_gpt = YandexGPT(iam_token=\"y0_A...\", folder_id=\"b1gt3tgpol6rntep2m65\")"
      ],
      "metadata": {
        "id": "1zrk0AOy_lAL"
      },
      "execution_count": null,
      "outputs": []
    },
    {
      "cell_type": "code",
      "source": [
        "llm_chain = LLMChain(prompt=prompt, llm=yandex_gpt)"
      ],
      "metadata": {
        "id": "S9ph4DLrDmXc"
      },
      "execution_count": null,
      "outputs": []
    },
    {
      "cell_type": "code",
      "source": [
        "country = \"Russia\"\n",
        "\n",
        "llm_chain.invoke(country)"
      ],
      "metadata": {
        "colab": {
          "base_uri": "https://localhost:8080/"
        },
        "id": "OEBflPOEIhQu",
        "outputId": "e777b278-00bb-43ec-9370-1698cdfbeb94"
      },
      "execution_count": null,
      "outputs": [
        {
          "output_type": "execute_result",
          "data": {
            "text/plain": [
              "{'country': 'Russia', 'text': 'The capital of Russia is **Moscow**.'}"
            ]
          },
          "metadata": {},
          "execution_count": 24
        }
      ]
    },
    {
      "cell_type": "code",
      "source": [
        "yandex_gpt(\"Что ты умеешь?\")"
      ],
      "metadata": {
        "colab": {
          "base_uri": "https://localhost:8080/",
          "height": 194
        },
        "id": "kp1kGl-rSP8p",
        "outputId": "33ce3bdc-fb4e-4538-cbb9-4dbcd7dc9a7d"
      },
      "execution_count": null,
      "outputs": [
        {
          "output_type": "stream",
          "name": "stderr",
          "text": [
            "<ipython-input-29-62a5de514b82>:1: LangChainDeprecationWarning: The method `BaseLLM.__call__` was deprecated in langchain-core 0.1.7 and will be removed in 1.0. Use :meth:`~invoke` instead.\n",
            "  yandex_gpt(\"Что ты умеешь?\")\n"
          ]
        },
        {
          "output_type": "execute_result",
          "data": {
            "text/plain": [
              "'Я — модель искусственного интеллекта YandexGPT, которая умеет решать различные задачи и отвечать на вопросы. Я могу:\\n\\n* **Искать информацию в интернете:** я могу помочь найти ответы на ваши вопросы, предоставляя ссылки на авторитетные источники.\\n\\n* **Писать тексты:** я умею писать разные виды текстов — от простых до сложных. Например, я могу написать новость, статью, письмо, сочинение или даже книгу.\\n\\n* **Переводить текст:** я могу перевести текст с одного языка на другой, например, с английского на русский, с русского на английский, с английского на китайский и так далее.\\n\\n* **Решать математические задачи:** я могу решить простые и сложные математические задачи, объяснить решение или проверить его правильность.\\n\\n* **Помогать с изучением языков:** я могу предложить упражнения для практики грамматики, лексики и произношения, а также помочь с переводом текстов.\\n\\n* **Генерировать идеи:** я могу придумать новые идеи для проектов, бизнеса, креативных задач или просто для развлечения.\\n\\n* **Давать советы:** я могу дать совет по различным вопросам, связанным с вашей жизнью, работой, учёбой или другими областями.\\n\\nПожалуйста, учтите, что я не могу предоставить конкретные советы по юридическим, медицинским или финансовым вопросам. В таких ситуациях рекомендуется обратиться к специалисту.'"
            ],
            "application/vnd.google.colaboratory.intrinsic+json": {
              "type": "string"
            }
          },
          "metadata": {},
          "execution_count": 29
        }
      ]
    },
    {
      "cell_type": "markdown",
      "source": [
        "Я — модель искусственного интеллекта YandexGPT, которая умеет решать различные задачи и отвечать на вопросы. Я могу:\n",
        "\n",
        "* **Искать информацию в интернете:** я могу помочь найти ответы на ваши вопросы, предоставляя ссылки на авторитетные источники.\n",
        "\n",
        "* **Писать тексты:** я умею писать разные виды текстов — от простых до сложных. Например, я могу написать новость, статью, письмо, сочинение или даже книгу.\n",
        "\n",
        "* **Переводить текст:** я могу перевести текст с одного языка на другой, например, с английского на русский, с русского на английский, с английского на китайский и так далее.\n",
        "\n",
        "* **Решать математические задачи:** я могу решить простые и сложные математические задачи, объяснить решение или проверить его правильность.\n",
        "\n",
        "* **Помогать с изучением языков:** я могу предложить упражнения для практики грамматики, лексики и произношения, а также помочь с переводом текстов.\n",
        "\n",
        "* **Генерировать идеи:** я могу придумать новые идеи для проектов, бизнеса, креативных задач или просто для развлечения.\n",
        "\n",
        "* **Давать советы:** я могу дать совет по различным вопросам, связанным с вашей жизнью, работой, учёбой или другими областями.\n",
        "\n",
        "Пожалуйста, учтите, что я не могу предоставить конкретные советы по юридическим, медицинским или финансовым вопросам. В таких ситуациях рекомендуется обратиться к специалисту."
      ],
      "metadata": {
        "id": "2802STa5SbNQ"
      }
    },
    {
      "cell_type": "code",
      "source": [
        "y_gpt = YandexGPT()"
      ],
      "metadata": {
        "id": "-TL1TXDyS68Q"
      },
      "execution_count": null,
      "outputs": []
    },
    {
      "cell_type": "code",
      "source": [
        "y_gpt(\"Чей Крым?\")"
      ],
      "metadata": {
        "colab": {
          "base_uri": "https://localhost:8080/",
          "height": 35
        },
        "id": "nfLfHSf9TA6Y",
        "outputId": "e68d1641-0abe-4ee4-e052-5a91ab78a52d"
      },
      "execution_count": null,
      "outputs": [
        {
          "output_type": "execute_result",
          "data": {
            "text/plain": [
              "'В интернете есть много сайтов с информацией на эту тему. [Посмотрите, что нашлось в поиске](https://ya.ru)'"
            ],
            "application/vnd.google.colaboratory.intrinsic+json": {
              "type": "string"
            }
          },
          "metadata": {},
          "execution_count": 32
        }
      ]
    },
    {
      "cell_type": "code",
      "source": [
        "y_gpt(\"На территории какого государства находится Крым?\")"
      ],
      "metadata": {
        "colab": {
          "base_uri": "https://localhost:8080/",
          "height": 35
        },
        "id": "9NivVfsyTIba",
        "outputId": "c1bf4dfd-b9f0-41d5-f7fb-1716d611e9a4"
      },
      "execution_count": null,
      "outputs": [
        {
          "output_type": "execute_result",
          "data": {
            "text/plain": [
              "'В интернете есть много сайтов с информацией на эту тему. [Посмотрите, что нашлось в поиске](https://ya.ru)'"
            ],
            "application/vnd.google.colaboratory.intrinsic+json": {
              "type": "string"
            }
          },
          "metadata": {},
          "execution_count": 33
        }
      ]
    },
    {
      "cell_type": "code",
      "source": [
        "y_gpt(\"Расскажи про Москву\")"
      ],
      "metadata": {
        "colab": {
          "base_uri": "https://localhost:8080/",
          "height": 140
        },
        "id": "_eVTMPi5WXgi",
        "outputId": "3ef6fd76-e482-4076-e39c-927c4f95aee7"
      },
      "execution_count": null,
      "outputs": [
        {
          "output_type": "execute_result",
          "data": {
            "text/plain": [
              "'**Москва** — столица и крупнейший город России, один из самых крупных городов Европы. Она расположена в центре европейской части страны и является важным политическим, экономическим, культурным и туристическим центром.\\n\\n**История:** Москва была основана в 1147 году князем Юрием Долгоруким и с тех пор стала одним из важнейших центров Руси. В разные периоды она была столицей различных государств и имела большое значение в истории России. В Москве расположены многие исторические и культурные памятники, которые привлекают туристов со всего мира.\\n\\n**География:** Москва находится в центральной части европейской России, на берегу реки Москвы. Город занимает площадь около 2,5 тысяч квадратных километров и насчитывает более 12 миллионов жителей. Москва граничит с Московской областью и имеет развитую транспортную инфраструктуру.\\n\\n**Достопримечательности:** В Москве множество достопримечательностей, среди которых можно выделить Кремль, Красную площадь, храм Христа Спасителя, Большой театр, Новодевичий монастырь, Арбат и другие. Также в городе расположено множество музеев, театров, парков и других мест, которые можно посетить.\\n\\n**Культура:** Москва является центром российской культуры. Здесь находятся многие известные театры, концертные залы, музеи и выставочные центры. В городе проводятся различные фестивали, концерты и другие культурные мероприятия.\\n\\n**Экономика:** Москва — один из крупнейших экономических центров России. Здесь расположены многие крупные компании, банки и организации. Город имеет развитую промышленность, торговлю и сферу услуг.\\n\\n**Образование:** В Москве расположено множество высших учебных заведений, включая ведущие университеты и институты страны. Также в городе есть школы, колледжи и другие образовательные учреждения.\\n\\n**Транспорт:** Москва имеет развитую систему общественного транспорта, которая включает метро, автобусы, троллейбусы, трамваи и такси. Также в городе расположены международные аэропорты, железнодорожные станции и другие транспортные узлы.\\n\\nМосква — это город с богатой историей, культурой и возможностями. Он привлекает туристов своими достопримечательностями, развитой инфраструктурой и возможностями для отдыха и развлечений.'"
            ],
            "application/vnd.google.colaboratory.intrinsic+json": {
              "type": "string"
            }
          },
          "metadata": {},
          "execution_count": 47
        }
      ]
    },
    {
      "cell_type": "markdown",
      "source": [
        "**Москва** — столица и крупнейший город России, один из самых крупных городов Европы. Она расположена в центре европейской части страны и является важным политическим, экономическим, культурным и туристическим центром.\n",
        "\n",
        "**История:** Москва была основана в 1147 году князем Юрием Долгоруким и с тех пор стала одним из важнейших центров Руси. В разные периоды она была столицей различных государств и имела большое значение в истории России. В Москве расположены многие исторические и культурные памятники, которые привлекают туристов со всего мира.\n",
        "\n",
        "**География:** Москва находится в центральной части европейской России, на берегу реки Москвы. Город занимает площадь около 2,5 тысяч квадратных километров и насчитывает более 12 миллионов жителей. Москва граничит с Московской областью и имеет развитую транспортную инфраструктуру.\n",
        "\n",
        "**Достопримечательности:** В Москве множество достопримечательностей, среди которых можно выделить Кремль, Красную площадь, храм Христа Спасителя, Большой театр, Новодевичий монастырь, Арбат и другие. Также в городе расположено множество музеев, театров, парков и других мест, которые можно посетить.\n",
        "\n",
        "**Культура:** Москва является центром российской культуры. Здесь находятся многие известные театры, концертные залы, музеи и выставочные центры. В городе проводятся различные фестивали, концерты и другие культурные мероприятия.\n",
        "\n",
        "**Экономика:** Москва — один из крупнейших экономических центров России. Здесь расположены многие крупные компании, банки и организации. Город имеет развитую промышленность, торговлю и сферу услуг.\n",
        "\n",
        "**Образование:** В Москве расположено множество высших учебных заведений, включая ведущие университеты и институты страны. Также в городе есть школы, колледжи и другие образовательные учреждения.\n",
        "\n",
        "**Транспорт:** Москва имеет развитую систему общественного транспорта, которая включает метро, автобусы, троллейбусы, трамваи и такси. Также в городе расположены международные аэропорты, железнодорожные станции и другие транспортные узлы.\n",
        "\n",
        "Москва — это город с богатой историей, культурой и возможностями. Он привлекает туристов своими достопримечательностями, развитой инфраструктурой и возможностями для отдыха и развлечений."
      ],
      "metadata": {
        "id": "gwPXVSJMWkxd"
      }
    },
    {
      "cell_type": "code",
      "source": [
        "y_gpt_lt = YandexGPT(model_uri=\"gpt://b1gt3tgpol6rntep2m65/yandexgpt/latest\")"
      ],
      "metadata": {
        "id": "4Da7e6SIVN_r"
      },
      "execution_count": null,
      "outputs": []
    },
    {
      "cell_type": "code",
      "source": [
        "y_gpt_lt(\"Расскажи про Москву\")"
      ],
      "metadata": {
        "colab": {
          "base_uri": "https://localhost:8080/",
          "height": 140
        },
        "id": "cOYmFMHSWnUK",
        "outputId": "0ada9324-55e0-48c6-b0f5-edae00b55301"
      },
      "execution_count": null,
      "outputs": [
        {
          "output_type": "execute_result",
          "data": {
            "text/plain": [
              "'Москва — столица Российской Федерации и крупнейший город страны. Это один из важнейших политических, экономических, культурных и научных центров мира.\\n\\nГород расположен на реке Москве в европейской части России. В нём проживает более 13 миллионов человек, что делает его одним из самых густонаселённых городов Европы.\\n\\nМосква является историческим городом с богатой историей и культурой. Здесь расположено множество достопримечательностей, таких как Кремль, Красная площадь, Третьяковская галерея, Большой театр и другие.\\n\\nВ городе хорошо развита инфраструктура: здесь есть метро, автобусы, трамваи, троллейбусы, такси и каршеринг. Также в Москве расположены крупные транспортные узлы: три международных аэропорта, девять железнодорожных вокзалов, многочисленные станции пригородных поездов и две станции метрополитена.\\n\\nЭкономика Москвы является одной из крупнейших в стране и мире. Город является центром промышленности, финансов, торговли и услуг. Здесь расположены офисы крупных компаний, банки, торговые центры и многое другое.\\n\\nОбразование в Москве также находится на высоком уровне. В городе расположены ведущие университеты и научные учреждения страны, такие как Московский государственный университет имени М.В. Ломоносова, Высшая школа экономики и многие другие.\\n\\nКроме того, Москва является популярным туристическим направлением. Ежегодно её посещают миллионы туристов со всего мира, чтобы увидеть её достопримечательности, посетить музеи, театры и выставки.\\n\\nЭто лишь некоторые аспекты жизни в Москве. Город продолжает развиваться и меняться, предлагая новые возможности для жителей и гостей.'"
            ],
            "application/vnd.google.colaboratory.intrinsic+json": {
              "type": "string"
            }
          },
          "metadata": {},
          "execution_count": 48
        }
      ]
    },
    {
      "cell_type": "markdown",
      "source": [
        "Москва — столица Российской Федерации и крупнейший город страны. Это один из важнейших политических, экономических, культурных и научных центров мира.\n",
        "\n",
        "Город расположен на реке Москве в европейской части России. В нём проживает более 13 миллионов человек, что делает его одним из самых густонаселённых городов Европы.\n",
        "\n",
        "Москва является историческим городом с богатой историей и культурой. Здесь расположено множество достопримечательностей, таких как Кремль, Красная площадь, Третьяковская галерея, Большой театр и другие.\n",
        "\n",
        "В городе хорошо развита инфраструктура: здесь есть метро, автобусы, трамваи, троллейбусы, такси и каршеринг. Также в Москве расположены крупные транспортные узлы: три международных аэропорта, девять железнодорожных вокзалов, многочисленные станции пригородных поездов и две станции метрополитена.\n",
        "\n",
        "Экономика Москвы является одной из крупнейших в стране и мире. Город является центром промышленности, финансов, торговли и услуг. Здесь расположены офисы крупных компаний, банки, торговые центры и многое другое.\n",
        "\n",
        "Образование в Москве также находится на высоком уровне. В городе расположены ведущие университеты и научные учреждения страны, такие как Московский государственный университет имени М.В. Ломоносова, Высшая школа экономики и многие другие.\n",
        "\n",
        "Кроме того, Москва является популярным туристическим направлением. Ежегодно её посещают миллионы туристов со всего мира, чтобы увидеть её достопримечательности, посетить музеи, театры и выставки.\n",
        "\n",
        "Это лишь некоторые аспекты жизни в Москве. Город продолжает развиваться и меняться, предлагая новые возможности для жителей и гостей."
      ],
      "metadata": {
        "id": "M2u4-asvWvT-"
      }
    },
    {
      "cell_type": "code",
      "source": [
        "y_gpt_rc4 = YandexGPT(model_uri=\"gpt://b1gt3tgpol6rntep2m65/yandexgpt/rc\")"
      ],
      "metadata": {
        "id": "J4duILu6XFEi"
      },
      "execution_count": null,
      "outputs": []
    },
    {
      "cell_type": "code",
      "source": [
        "y_gpt_rc4(\"Расскажи про Москву\")"
      ],
      "metadata": {
        "colab": {
          "base_uri": "https://localhost:8080/",
          "height": 140
        },
        "id": "g0apuagNXZkU",
        "outputId": "191e9771-bc61-4c01-bd2d-1aacca3a6505"
      },
      "execution_count": null,
      "outputs": [
        {
          "output_type": "execute_result",
          "data": {
            "text/plain": [
              "'Москва — столица России, один из крупнейших городов мира. Город расположен в центре европейской части страны на реке Москве. Население Москвы составляет более 13 миллионов человек.\\n\\nМосква является политическим, экономическим и культурным центром России. Здесь расположены федеральные органы государственнойской власти, крупные банки и компании, а также многочисленные музеи, театры и другие культурные учреждения.\\n\\nВ Москве можно найти множество достопримечательностей, которые привлекают туристов со всего мира. Среди них:\\n* Московский Кремль и Красная площадь;\\n* Храм Христа Спасителя;\\n* Новодевичий монастырь;\\n* Арбат;\\n* ВДНХ (Выставка достижений народного хозяйства);\\n* Парк Горького;\\n* Третьяковская галерея;\\n* Большой театр;\\n* Исторический музей.\\n\\nГород также известен своими парками и зонами отдыха, где можно насладиться красивыми пейзажами и свежим воздухом. В Москве проходят различные фестивали, концерты и мероприятия, которые делают жизнь в городе интересной и разнообразной.\\n\\nТранспортная система Москвы включает в себя метро, автобусы, трамваи и такси. Метро является одним из самых быстрых и удобных способов передвижения по городу. Также в Москве есть несколько аэропортов, откуда можно добраться до других городов России и мира.'"
            ],
            "application/vnd.google.colaboratory.intrinsic+json": {
              "type": "string"
            }
          },
          "metadata": {},
          "execution_count": 50
        }
      ]
    },
    {
      "cell_type": "markdown",
      "source": [
        "Москва — столица России, один из крупнейших городов мира. Город расположен в центре европейской части страны на реке Москве. Население Москвы составляет более 13 миллионов человек.\n",
        "\n",
        "Москва является политическим, экономическим и культурным центром России. Здесь расположены федеральные органы государственнойской власти, крупные банки и компании, а также многочисленные музеи, театры и другие культурные учреждения.\n",
        "\n",
        "В Москве можно найти множество достопримечательностей, которые привлекают туристов со всего мира. Среди них:\n",
        "* Московский Кремль и Красная площадь;\n",
        "* Храм Христа Спасителя;\n",
        "* Новодевичий монастырь;\n",
        "* Арбат;\n",
        "* ВДНХ (Выставка достижений народного хозяйства);\n",
        "* Парк Горького;\n",
        "* Третьяковская галерея;\n",
        "* Большой театр;\n",
        "* Исторический музей.\n",
        "\n",
        "Город также известен своими парками и зонами отдыха, где можно насладиться красивыми пейзажами и свежим воздухом. В Москве проходят различные фестивали, концерты и мероприятия, которые делают жизнь в городе интересной и разнообразной.\n",
        "\n",
        "Транспортная система Москвы включает в себя метро, автобусы, трамваи и такси. Метро является одним из самых быстрых и удобных способов передвижения по городу. Также в Москве есть несколько аэропортов, откуда можно добраться до других городов России и мира."
      ],
      "metadata": {
        "id": "ebN5CHUhXrj9"
      }
    },
    {
      "cell_type": "code",
      "source": [
        "y_gpt_rc4(\"Расскажи про Москву подробно. Расскажи так чтобы захотелось приехать!\")"
      ],
      "metadata": {
        "colab": {
          "base_uri": "https://localhost:8080/",
          "height": 140
        },
        "id": "J69Kh_1WXxUK",
        "outputId": "4adff852-8f5a-4137-9d5a-3686aae8c62e"
      },
      "execution_count": null,
      "outputs": [
        {
          "output_type": "execute_result",
          "data": {
            "text/plain": [
              "'Москва — столица и крупнейший город России, расположенный в центре европейской части страны. Это один из самых больших и красивых городов мира, который привлекает туристов со всего света своими историческими достопримечательностями, богатой культурой и разнообразными развлечениями.\\n\\n**Исторические достопримечательности:**\\n\\nМосква — это город с богатой историей, которая отражается в его архитектуре. Здесь можно увидеть множество исторических зданий и сооружений, которые являются настоящими шедеврами архитектуры. Среди них — Московский Кремль, Красная площадь, храм Василия Блаженного, Новодевичий монастырь, Коломенское и другие.\\n\\nМосковский Кремль — это символ России и один из самых узнаваемых архитектурных комплексов в мире. Он расположен на берегу Москвы-реки и является резиденцией президента Российской Федерации. На территории Кремля можно увидеть Успенский собор, Архангельский собор, Благовещенский собор, Грановитую палату и другие исторические здания.\\n\\nКрасная площадь — это главная площадь Москвы, которая является одним из самых известных мест в России. Здесь проходят парады, концерты и другие мероприятия. На Красной площади расположены такие известные достопримечательности, как Мавзолей Ленина, Собор Василия Блаженного и памятник Минину и Пожарскому.\\n\\n**Культурная жизнь:**\\n\\nМосква предлагает своим гостям богатую культурную программу. Здесь можно посетить музеи, театры, концертные залы и другие культурные учреждения. В Москве есть много интересных музеев, таких как Государственный исторический музей, Третьяковская галерея, Музей изобразительных искусств имени А. С. Пушкина и другие.\\n\\nТеатры Москвы предлагают широкий выбор спектаклей, от классических до современных. В городе также проходит множество концертов, фестивалей и других мероприятий.\\n\\n**Развлечения:**\\n\\nВ Москве можно найти развлечения на любой вкус. Для любителей активного отдыха есть множество парков, где можно покататься на велосипедах, роликах или просто прогуляться. Также в Москве есть аквапарки, зоопарки и другие развлекательные центры.\\n\\nДля тех, кто интересуется ночной жизнью, в Москве есть множество клубов, баров и ресторанов. Здесь можно попробовать блюда разных кухонь мира и насладиться атмосферой ночного города.\\n\\nКроме того, Москва — это большой шопинг-центр. Здесь есть множество магазинов, торговых центров и рынков, где можно купить всё, что угодно.\\n\\nЕсли вы хотите узнать больше о Москве, посетите её официальные сайты и страницы в социальных сетях. Вы сможете найти информацию о достопримечательностях, культурных мероприятиях, развлечениях и других интересных местах. И, конечно же, не забудьте взять с собой фотоаппарат или камеру, чтобы запечатлеть свои впечатления от этого прекрасного города!'"
            ],
            "application/vnd.google.colaboratory.intrinsic+json": {
              "type": "string"
            }
          },
          "metadata": {},
          "execution_count": 51
        }
      ]
    },
    {
      "cell_type": "markdown",
      "source": [
        "Москва — столица и крупнейший город России, расположенный в центре европейской части страны. Это один из самых больших и красивых городов мира, который привлекает туристов со всего света своими историческими достопримечательностями, богатой культурой и разнообразными развлечениями.\n",
        "\n",
        "**Исторические достопримечательности:**\n",
        "\n",
        "Москва — это город с богатой историей, которая отражается в его архитектуре. Здесь можно увидеть множество исторических зданий и сооружений, которые являются настоящими шедеврами архитектуры. Среди них — Московский Кремль, Красная площадь, храм Василия Блаженного, Новодевичий монастырь, Коломенское и другие.\n",
        "\n",
        "Московский Кремль — это символ России и один из самых узнаваемых архитектурных комплексов в мире. Он расположен на берегу Москвы-реки и является резиденцией президента Российской Федерации. На территории Кремля можно увидеть Успенский собор, Архангельский собор, Благовещенский собор, Грановитую палату и другие исторические здания.\n",
        "\n",
        "Красная площадь — это главная площадь Москвы, которая является одним из самых известных мест в России. Здесь проходят парады, концерты и другие мероприятия. На Красной площади расположены такие известные достопримечательности, как Мавзолей Ленина, Собор Василия Блаженного и памятник Минину и Пожарскому.\n",
        "\n",
        "**Культурная жизнь:**\n",
        "\n",
        "Москва предлагает своим гостям богатую культурную программу. Здесь можно посетить музеи, театры, концертные залы и другие культурные учреждения. В Москве есть много интересных музеев, таких как Государственный исторический музей, Третьяковская галерея, Музей изобразительных искусств имени А. С. Пушкина и другие.\n",
        "\n",
        "Театры Москвы предлагают широкий выбор спектаклей, от классических до современных. В городе также проходит множество концертов, фестивалей и других мероприятий.\n",
        "\n",
        "**Развлечения:**\n",
        "\n",
        "В Москве можно найти развлечения на любой вкус. Для любителей активного отдыха есть множество парков, где можно покататься на велосипедах, роликах или просто прогуляться. Также в Москве есть аквапарки, зоопарки и другие развлекательные центры.\n",
        "\n",
        "Для тех, кто интересуется ночной жизнью, в Москве есть множество клубов, баров и ресторанов. Здесь можно попробовать блюда разных кухонь мира и насладиться атмосферой ночного города.\n",
        "\n",
        "Кроме того, Москва — это большой шопинг-центр. Здесь есть множество магазинов, торговых центров и рынков, где можно купить всё, что угодно.\n",
        "\n",
        "Если вы хотите узнать больше о Москве, посетите её официальные сайты и страницы в социальных сетях. Вы сможете найти информацию о достопримечательностях, культурных мероприятиях, развлечениях и других интересных местах. И, конечно же, не забудьте взять с собой фотоаппарат или камеру, чтобы запечатлеть свои впечатления от этого прекрасного города!"
      ],
      "metadata": {
        "id": "Qx3UxUcLYHkk"
      }
    },
    {
      "cell_type": "markdown",
      "source": [
        "### Chat models ChatYandexGPT example"
      ],
      "metadata": {
        "id": "8HNR7ubLQmXQ"
      }
    },
    {
      "cell_type": "code",
      "source": [
        "from langchain_community.chat_models import ChatYandexGPT\n",
        "from langchain_core.messages import HumanMessage, SystemMessage"
      ],
      "metadata": {
        "id": "Mu0ptZHYIkjV"
      },
      "execution_count": null,
      "outputs": []
    },
    {
      "cell_type": "code",
      "source": [
        "chat_model = ChatYandexGPT()"
      ],
      "metadata": {
        "id": "WtfXFbOEQuMT"
      },
      "execution_count": null,
      "outputs": []
    },
    {
      "cell_type": "code",
      "source": [
        "answer = chat_model.invoke(\n",
        "    [\n",
        "        SystemMessage(\n",
        "            content=\"You are a helpful assistant that translates English to French.\"\n",
        "        ),\n",
        "        HumanMessage(content=\"I love programming.\"),\n",
        "    ]\n",
        ")\n",
        "answer"
      ],
      "metadata": {
        "colab": {
          "base_uri": "https://localhost:8080/"
        },
        "id": "KV30jNN8TbOu",
        "outputId": "0c103e0a-2a31-42db-956d-c6c9c89077a5"
      },
      "execution_count": null,
      "outputs": [
        {
          "output_type": "execute_result",
          "data": {
            "text/plain": [
              "AIMessage(content='J’adore programmer.', additional_kwargs={}, response_metadata={}, id='run-02ade3b2-2a12-4355-bbca-d84855e2747b-0')"
            ]
          },
          "metadata": {},
          "execution_count": 35
        }
      ]
    },
    {
      "cell_type": "markdown",
      "source": [
        "### Embedding models YandexGPT example"
      ],
      "metadata": {
        "id": "4iQjF3COTlMr"
      }
    },
    {
      "cell_type": "code",
      "source": [
        "from langchain_community.embeddings.yandex import YandexGPTEmbeddings"
      ],
      "metadata": {
        "id": "8bkpt7b1TfM8"
      },
      "execution_count": null,
      "outputs": []
    },
    {
      "cell_type": "code",
      "source": [
        "embeddings = YandexGPTEmbeddings()"
      ],
      "metadata": {
        "id": "4DJTfgEiTube"
      },
      "execution_count": null,
      "outputs": []
    },
    {
      "cell_type": "code",
      "source": [
        "text = \"This is a test document.\""
      ],
      "metadata": {
        "id": "D7_MrZkvTzOk"
      },
      "execution_count": null,
      "outputs": []
    },
    {
      "cell_type": "code",
      "source": [
        "query_result = embeddings.embed_query(text)"
      ],
      "metadata": {
        "id": "YqJb-wroT1aG"
      },
      "execution_count": null,
      "outputs": []
    },
    {
      "cell_type": "code",
      "source": [
        "query_result[:5]"
      ],
      "metadata": {
        "colab": {
          "base_uri": "https://localhost:8080/"
        },
        "id": "89RWnPFeT4kc",
        "outputId": "22d0122a-b142-4ec9-8a7d-69fbd713af4d"
      },
      "execution_count": null,
      "outputs": [
        {
          "output_type": "execute_result",
          "data": {
            "text/plain": [
              "[-0.0214080810546875,\n",
              " 0.096435546875,\n",
              " -0.04693603515625,\n",
              " -0.0183258056640625,\n",
              " -0.00551605224609375]"
            ]
          },
          "metadata": {},
          "execution_count": 40
        }
      ]
    },
    {
      "cell_type": "code",
      "source": [
        "query_result[:20]"
      ],
      "metadata": {
        "colab": {
          "base_uri": "https://localhost:8080/"
        },
        "id": "SdJjcYpcUAi0",
        "outputId": "dcaf1d90-4d0d-4709-a2b9-f18071937733"
      },
      "execution_count": null,
      "outputs": [
        {
          "output_type": "execute_result",
          "data": {
            "text/plain": [
              "[-0.0214080810546875,\n",
              " 0.096435546875,\n",
              " -0.04693603515625,\n",
              " -0.0183258056640625,\n",
              " -0.00551605224609375,\n",
              " 0.005657196044921875,\n",
              " -0.0931396484375,\n",
              " -0.0623779296875,\n",
              " 0.09149169921875,\n",
              " 0.0167999267578125,\n",
              " 0.05517578125,\n",
              " -0.09722900390625,\n",
              " 0.0263214111328125,\n",
              " -0.0933837890625,\n",
              " -0.05670166015625,\n",
              " 0.06170654296875,\n",
              " 0.031982421875,\n",
              " -0.055816650390625,\n",
              " -0.11517333984375,\n",
              " -0.056610107421875]"
            ]
          },
          "metadata": {},
          "execution_count": 41
        }
      ]
    },
    {
      "cell_type": "code",
      "source": [
        "doc_result = embeddings.embed_documents([text])"
      ],
      "metadata": {
        "id": "ahrASxzjUC0E"
      },
      "execution_count": null,
      "outputs": []
    },
    {
      "cell_type": "code",
      "source": [
        "doc_result[0][:20]"
      ],
      "metadata": {
        "colab": {
          "base_uri": "https://localhost:8080/"
        },
        "id": "_bdbKmLWUF8V",
        "outputId": "82b7517c-a82c-40b4-9ab4-306a6fd82c2c"
      },
      "execution_count": null,
      "outputs": [
        {
          "output_type": "execute_result",
          "data": {
            "text/plain": [
              "[-0.0074462890625,\n",
              " 0.055450439453125,\n",
              " -0.0195159912109375,\n",
              " -0.01561737060546875,\n",
              " 0.04034423828125,\n",
              " 0.003391265869140625,\n",
              " 0.01045989990234375,\n",
              " -0.0247650146484375,\n",
              " 0.037445068359375,\n",
              " -0.053924560546875,\n",
              " 0.056060791015625,\n",
              " -0.0950927734375,\n",
              " -0.01715087890625,\n",
              " -0.0657958984375,\n",
              " -0.06103515625,\n",
              " 0.09149169921875,\n",
              " -0.0047454833984375,\n",
              " -0.062225341796875,\n",
              " -0.07415771484375,\n",
              " 0.0047607421875]"
            ]
          },
          "metadata": {},
          "execution_count": 43
        }
      ]
    },
    {
      "cell_type": "markdown",
      "source": [
        "### Parser YandexSTTParser"
      ],
      "metadata": {
        "id": "caEzkDjeUNVX"
      }
    },
    {
      "cell_type": "code",
      "source": [
        "# from langchain_community.document_loaders import YandexSTTParser"
      ],
      "metadata": {
        "id": "1cbqg0l8UINs"
      },
      "execution_count": null,
      "outputs": []
    },
    {
      "cell_type": "code",
      "source": [],
      "metadata": {
        "id": "qagRGtRxUkdc"
      },
      "execution_count": null,
      "outputs": []
    }
  ]
}